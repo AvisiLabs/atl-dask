{
 "cells": [
  {
   "cell_type": "markdown",
   "id": "52b7d38e-1acd-4e8b-85d5-b429a7c813f5",
   "metadata": {
    "slideshow": {
     "slide_type": "skip"
    },
    "tags": []
   },
   "source": [
    "# Zonder DASK"
   ]
  },
  {
   "cell_type": "markdown",
   "id": "7631b8cc-9571-4811-8d1a-818dcb9895ec",
   "metadata": {
    "slideshow": {
     "slide_type": "skip"
    },
    "tags": []
   },
   "source": [
    "We hebben beschikking tot twee verschillende databronnen:\n",
    "- Eén CSV-bestand [beers.csv](./beers.csv) met daarin een lijst van verschillende bieren met enkele bijbehorende kenmerken.\n",
    "- Verschillende CSV-bestanden in de map [data](./data) die reviews bevatten over de bieren.\n",
    "\n",
    "Binnen dit notebook gaan we voor een bierstijl bepalen wat de gemiddele gegeven rating is voor alle bieren die vallen onder de opgegeven bierstijl.\n",
    "\n",
    "Dit doen we door de volgende stappen uit te voeren:\n",
    "1. Het inladen van het CSV-bestand met alle bieren.\n",
    "2. Het filteren van de beer id's die horen bij de opgegeven bierstijl.\n",
    "3. Het inladen van de CSV-bestanden met reviews en het berekenen van de gemiddelde gegeven score."
   ]
  },
  {
   "cell_type": "markdown",
   "id": "0d5c9799-7784-4c38-9195-241f53133701",
   "metadata": {
    "slideshow": {
     "slide_type": "slide"
    },
    "tags": []
   },
   "source": [
    "## 1. Het inladen van het CSV-bestand met alle bieren."
   ]
  },
  {
   "cell_type": "code",
   "execution_count": null,
   "id": "0344d216-10bd-4f1c-96e7-03085214a6c9",
   "metadata": {
    "slideshow": {
     "slide_type": "subslide"
    },
    "tags": []
   },
   "outputs": [],
   "source": [
    "import pandas as pd\n",
    "import os"
   ]
  },
  {
   "cell_type": "code",
   "execution_count": null,
   "id": "a1433403-5930-4551-83f7-ca2c24d793fd",
   "metadata": {
    "slideshow": {
     "slide_type": "subslide"
    },
    "tags": []
   },
   "outputs": [],
   "source": [
    "df_beers = pd.read_csv(\"beers.csv\")"
   ]
  },
  {
   "cell_type": "code",
   "execution_count": null,
   "id": "52380e6c-bcff-4b30-9e34-7d4047350ecc",
   "metadata": {
    "slideshow": {
     "slide_type": "subslide"
    },
    "tags": []
   },
   "outputs": [],
   "source": [
    "# Group all beers by style and count them, to see which beer style is most used in our dataset\n",
    "df_beers.groupby(\"style\")[\"style\"].count().sort_values(ascending=False)"
   ]
  },
  {
   "cell_type": "markdown",
   "id": "8ae4a911-a9eb-4614-9c98-dff0474d6567",
   "metadata": {
    "slideshow": {
     "slide_type": "slide"
    },
    "tags": []
   },
   "source": [
    "## 2. Het filteren van de beer id's die horen bij de opgegeven bierstijl."
   ]
  },
  {
   "cell_type": "code",
   "execution_count": null,
   "id": "7148af9d-fd8e-4c17-b42f-e76d7d11029d",
   "metadata": {
    "slideshow": {
     "slide_type": "subslide"
    },
    "tags": []
   },
   "outputs": [],
   "source": [
    "style_to_search = \"American IPA\"\n",
    "beer_ids = df_beers[df_beers[\"style\"]==style_to_search][\"id\"].unique()\n",
    "beer_ids"
   ]
  },
  {
   "cell_type": "markdown",
   "id": "9e06f280-bc39-4005-94cc-4b98bd3b9e75",
   "metadata": {
    "slideshow": {
     "slide_type": "slide"
    },
    "tags": []
   },
   "source": [
    "## 3. Het inladen van de CSV-bestanden met reviews en het berekenen van de gemiddelde gegeven score."
   ]
  },
  {
   "cell_type": "code",
   "execution_count": null,
   "id": "d9aab20b-95ec-435d-a339-6f64b1408b91",
   "metadata": {
    "slideshow": {
     "slide_type": "subslide"
    },
    "tags": []
   },
   "outputs": [],
   "source": [
    "import glob\n",
    "csv_files = glob.glob(os.path.join(\"data\", \"reviews-*.csv\"))"
   ]
  },
  {
   "cell_type": "code",
   "execution_count": null,
   "id": "36c0a96b-9d7e-49b3-bb1c-441103a4f888",
   "metadata": {
    "slideshow": {
     "slide_type": "subslide"
    },
    "tags": []
   },
   "outputs": [],
   "source": [
    "%%time\n",
    "\n",
    "means = []\n",
    "for csv_file in csv_files:\n",
    "    df = pd.read_csv(csv_file)\n",
    "    mean = df[df[\"beer_id\"].isin(beer_ids)][\"overall\"].mean()\n",
    "    means.append(mean)\n",
    "    \n",
    "print(\"Average rating:\", sum(means) / len(means))"
   ]
  }
 ],
 "metadata": {
  "kernelspec": {
   "display_name": "Python 3 (ipykernel)",
   "language": "python",
   "name": "python3"
  },
  "language_info": {
   "codemirror_mode": {
    "name": "ipython",
    "version": 3
   },
   "file_extension": ".py",
   "mimetype": "text/x-python",
   "name": "python",
   "nbconvert_exporter": "python",
   "pygments_lexer": "ipython3",
   "version": "3.9.4"
  }
 },
 "nbformat": 4,
 "nbformat_minor": 5
}
