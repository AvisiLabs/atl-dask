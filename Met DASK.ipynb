{
 "cells": [
  {
   "cell_type": "markdown",
   "id": "52b7d38e-1acd-4e8b-85d5-b429a7c813f5",
   "metadata": {
    "slideshow": {
     "slide_type": "skip"
    },
    "tags": []
   },
   "source": [
    "# Met DASK"
   ]
  },
  {
   "cell_type": "markdown",
   "id": "7631b8cc-9571-4811-8d1a-818dcb9895ec",
   "metadata": {
    "slideshow": {
     "slide_type": "skip"
    },
    "tags": []
   },
   "source": [
    "We hebben beschikking tot twee verschillende databronnen:\n",
    "- Eén CSV-bestand [beers.csv](./beers.csv) met daarin een lijst van verschillende bieren met enkele bijbehorende kenmerken.\n",
    "- Verschillende CSV-bestanden in de map [data](./data) die reviews bevatten over de bieren.\n",
    "\n",
    "Binnen dit notebook gaan we voor een bierstijl bepalen wat de gemiddele gegeven rating is voor alle bieren die vallen onder de opgegeven bierstijl.\n",
    "\n",
    "Dit doen we door de volgende stappen uit te voeren:\n",
    "1. Het starten van een cluster waarop Dask de verschillende taken kan uitvoeren.\n",
    "2. Het inladen van het CSV-bestand met alle bieren.\n",
    "3. Het filteren van de beer id's die horen bij de opgegeven bierstijl.\n",
    "4. Het inladen van de CSV-bestanden met reviews en het berekenen van de gemiddelde gegeven score."
   ]
  },
  {
   "cell_type": "markdown",
   "id": "ba0c697c-da3f-4e3d-8cfd-b0fc14de29fd",
   "metadata": {
    "slideshow": {
     "slide_type": "slide"
    },
    "tags": []
   },
   "source": [
    "## 1. Het starten van een cluster waarop Dask de verschillende taken kan uitvoeren."
   ]
  },
  {
   "cell_type": "code",
   "execution_count": null,
   "id": "33a9098e-5e79-4029-bccf-3ecbf462b24d",
   "metadata": {
    "slideshow": {
     "slide_type": "subslide"
    },
    "tags": []
   },
   "outputs": [],
   "source": [
    "from dask.distributed import Client\n",
    "\n",
    "client = Client()\n",
    "client.cluster"
   ]
  },
  {
   "cell_type": "markdown",
   "id": "6fc79e5b-0f79-4413-9122-978b5170b195",
   "metadata": {
    "slideshow": {
     "slide_type": "slide"
    },
    "tags": []
   },
   "source": [
    "## 2. Het inladen van het CSV-bestand met alle bieren."
   ]
  },
  {
   "cell_type": "code",
   "execution_count": null,
   "id": "0344d216-10bd-4f1c-96e7-03085214a6c9",
   "metadata": {
    "slideshow": {
     "slide_type": "subslide"
    },
    "tags": []
   },
   "outputs": [],
   "source": [
    "import pandas as pd\n",
    "import os"
   ]
  },
  {
   "cell_type": "code",
   "execution_count": null,
   "id": "a1433403-5930-4551-83f7-ca2c24d793fd",
   "metadata": {
    "slideshow": {
     "slide_type": "subslide"
    },
    "tags": []
   },
   "outputs": [],
   "source": [
    "df_beers = pd.read_csv(\"beers.csv\")"
   ]
  },
  {
   "cell_type": "code",
   "execution_count": null,
   "id": "52380e6c-bcff-4b30-9e34-7d4047350ecc",
   "metadata": {
    "slideshow": {
     "slide_type": "subslide"
    },
    "tags": []
   },
   "outputs": [],
   "source": [
    "df_beers.groupby(\"style\")[\"style\"].count().sort_values(ascending=False)"
   ]
  },
  {
   "cell_type": "markdown",
   "id": "254ae7aa-8a77-466b-8c19-c0046c6124a3",
   "metadata": {
    "slideshow": {
     "slide_type": "slide"
    },
    "tags": []
   },
   "source": [
    "## 3. Het filteren van de beer id's die horen bij de opgegeven bierstijl."
   ]
  },
  {
   "cell_type": "code",
   "execution_count": null,
   "id": "7148af9d-fd8e-4c17-b42f-e76d7d11029d",
   "metadata": {
    "slideshow": {
     "slide_type": "subslide"
    },
    "tags": []
   },
   "outputs": [],
   "source": [
    "style_to_search = \"American IPA\"\n",
    "beer_ids = df_beers[df_beers[\"style\"]==style_to_search][\"id\"].unique()\n",
    "beer_ids"
   ]
  },
  {
   "cell_type": "markdown",
   "id": "5a001667-edbd-414a-a70e-2cf4c8e3b094",
   "metadata": {
    "slideshow": {
     "slide_type": "slide"
    },
    "tags": []
   },
   "source": [
    "## 4. Het inladen van de CSV-bestanden met reviews en het berekenen van de gemiddelde gegeven score."
   ]
  },
  {
   "cell_type": "code",
   "execution_count": null,
   "id": "d9aab20b-95ec-435d-a339-6f64b1408b91",
   "metadata": {
    "slideshow": {
     "slide_type": "subslide"
    },
    "tags": []
   },
   "outputs": [],
   "source": [
    "filename = os.path.join(\"data\", \"reviews-*.csv\")"
   ]
  },
  {
   "cell_type": "code",
   "execution_count": null,
   "id": "fd490f25-db7a-4c2b-bfbf-1bf6f5116e4c",
   "metadata": {
    "slideshow": {
     "slide_type": "subslide"
    },
    "tags": []
   },
   "outputs": [],
   "source": [
    "import dask.dataframe as dd\n",
    "df = dd.read_csv(filename)"
   ]
  },
  {
   "cell_type": "code",
   "execution_count": null,
   "id": "8831c410-9210-457e-9d2c-bf1698b0365b",
   "metadata": {
    "slideshow": {
     "slide_type": "subslide"
    },
    "tags": []
   },
   "outputs": [],
   "source": [
    "# Print the dataframe to see that we already know the columns inside our CSV's although the data inside it is not loaded.\n",
    "df"
   ]
  },
  {
   "cell_type": "code",
   "execution_count": null,
   "id": "a17552b4-4716-4fe2-9385-f45447958357",
   "metadata": {
    "slideshow": {
     "slide_type": "subslide"
    },
    "tags": []
   },
   "outputs": [],
   "source": [
    "average = df[df[\"beer_id\"].isin(beer_ids)][\"overall\"].mean()"
   ]
  },
  {
   "cell_type": "markdown",
   "id": "0f7749ca-6e45-4b43-b8c6-1a2012769e06",
   "metadata": {
    "slideshow": {
     "slide_type": "subslide"
    },
    "tags": []
   },
   "source": [
    "[Afbeelding](./graph.svg)\n",
    "![image](./graph.svg)"
   ]
  },
  {
   "cell_type": "code",
   "execution_count": null,
   "id": "36c0a96b-9d7e-49b3-bb1c-441103a4f888",
   "metadata": {
    "slideshow": {
     "slide_type": "subslide"
    },
    "tags": []
   },
   "outputs": [],
   "source": [
    "%%time\n",
    "\n",
    "average.compute()"
   ]
  },
  {
   "cell_type": "code",
   "execution_count": null,
   "id": "1cdcfa03-59b2-4f78-81cb-a75eff32db22",
   "metadata": {
    "slideshow": {
     "slide_type": "subslide"
    },
    "tags": []
   },
   "outputs": [],
   "source": [
    "client.close()"
   ]
  }
 ],
 "metadata": {
  "kernelspec": {
   "display_name": "Python 3 (ipykernel)",
   "language": "python",
   "name": "python3"
  },
  "language_info": {
   "codemirror_mode": {
    "name": "ipython",
    "version": 3
   },
   "file_extension": ".py",
   "mimetype": "text/x-python",
   "name": "python",
   "nbconvert_exporter": "python",
   "pygments_lexer": "ipython3",
   "version": "3.9.4"
  }
 },
 "nbformat": 4,
 "nbformat_minor": 5
}
